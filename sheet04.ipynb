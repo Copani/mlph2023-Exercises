{
 "cells": [
  {
   "cell_type": "markdown",
   "metadata": {},
   "source": [
    "# Sheet 4"
   ]
  },
  {
   "cell_type": "code",
   "execution_count": 2,
   "metadata": {},
   "outputs": [],
   "source": [
    "import numpy as np\n",
    "from matplotlib import pyplot as plt\n",
    "import torch\n",
    "import torch.nn as nn"
   ]
  },
  {
   "cell_type": "markdown",
   "metadata": {},
   "source": [
    "## 1 Learning with pytorch\n",
    "\n",
    "By hand."
   ]
  },
  {
   "cell_type": "code",
   "execution_count": 3,
   "metadata": {},
   "outputs": [
    {
     "ename": "ModuleNotFoundError",
     "evalue": "No module named 'micrograd'",
     "output_type": "error",
     "traceback": [
      "\u001b[1;31m---------------------------------------------------------------------------\u001b[0m",
      "\u001b[1;31mModuleNotFoundError\u001b[0m                       Traceback (most recent call last)",
      "\u001b[1;32mc:\\Users\\Claus\\OneDrive - bwedu\\Studium\\Physik\\Master\\ML_Physics\\MLP23_Exercises\\mlph2023-Exercises\\sheet04.ipynb Cell 4\u001b[0m line \u001b[0;36m1\n\u001b[1;32m----> <a href='vscode-notebook-cell:/c%3A/Users/Claus/OneDrive%20-%20bwedu/Studium/Physik/Master/ML_Physics/MLP23_Exercises/mlph2023-Exercises/sheet04.ipynb#W3sZmlsZQ%3D%3D?line=0'>1</a>\u001b[0m \u001b[39mimport\u001b[39;00m \u001b[39mmicrograd\u001b[39;00m\n\u001b[0;32m      <a href='vscode-notebook-cell:/c%3A/Users/Claus/OneDrive%20-%20bwedu/Studium/Physik/Master/ML_Physics/MLP23_Exercises/mlph2023-Exercises/sheet04.ipynb#W3sZmlsZQ%3D%3D?line=1'>2</a>\u001b[0m x0 \u001b[39m=\u001b[39m np\u001b[39m.\u001b[39marray([\u001b[39m1.5\u001b[39m, \u001b[39m0.5\u001b[39m])\n\u001b[0;32m      <a href='vscode-notebook-cell:/c%3A/Users/Claus/OneDrive%20-%20bwedu/Studium/Physik/Master/ML_Physics/MLP23_Exercises/mlph2023-Exercises/sheet04.ipynb#W3sZmlsZQ%3D%3D?line=2'>3</a>\u001b[0m L \u001b[39m=\u001b[39m \u001b[39mlambda\u001b[39;00m x: (np\u001b[39m.\u001b[39msin(x[\u001b[39m0\u001b[39m]\u001b[39m/\u001b[39mx[\u001b[39m1\u001b[39m]) \u001b[39m+\u001b[39m x[\u001b[39m0\u001b[39m]\u001b[39m/\u001b[39mx[\u001b[39m1\u001b[39m] \u001b[39m-\u001b[39m np\u001b[39m.\u001b[39mexp(x[\u001b[39m1\u001b[39m])) \u001b[39m*\u001b[39m (x[\u001b[39m0\u001b[39m]\u001b[39m/\u001b[39mx[\u001b[39m1\u001b[39m] \u001b[39m-\u001b[39m np\u001b[39m.\u001b[39mexp(x[\u001b[39m1\u001b[39m]))\n",
      "\u001b[1;31mModuleNotFoundError\u001b[0m: No module named 'micrograd'"
     ]
    }
   ],
   "source": [
    "import micrograd\n",
    "x0 = np.array([1.5, 0.5])\n",
    "L = lambda x: (np.sin(x[0]/x[1]) + x[0]/x[1] - np.exp(x[1])) * (x[0]/x[1] - np.exp(x[1]))\n"
   ]
  },
  {
   "cell_type": "markdown",
   "metadata": {},
   "source": [
    "(a)"
   ]
  },
  {
   "cell_type": "code",
   "execution_count": 4,
   "metadata": {},
   "outputs": [
    {
     "ename": "NameError",
     "evalue": "name 'torch' is not defined",
     "output_type": "error",
     "traceback": [
      "\u001b[1;31m---------------------------------------------------------------------------\u001b[0m",
      "\u001b[1;31mNameError\u001b[0m                                 Traceback (most recent call last)",
      "\u001b[1;32mc:\\Users\\Claus\\OneDrive - bwedu\\Studium\\Physik\\Master\\ML_Physics\\MLP23_Exercises\\mlph2023-Exercises\\sheet04.ipynb Cell 6\u001b[0m line \u001b[0;36m2\n\u001b[0;32m      <a href='vscode-notebook-cell:/c%3A/Users/Claus/OneDrive%20-%20bwedu/Studium/Physik/Master/ML_Physics/MLP23_Exercises/mlph2023-Exercises/sheet04.ipynb#W3sZmlsZQ%3D%3D?line=0'>1</a>\u001b[0m \u001b[39m# TODO: manual check of intermediate gradients with torch.autograd.grad\u001b[39;00m\n\u001b[1;32m----> <a href='vscode-notebook-cell:/c%3A/Users/Claus/OneDrive%20-%20bwedu/Studium/Physik/Master/ML_Physics/MLP23_Exercises/mlph2023-Exercises/sheet04.ipynb#W3sZmlsZQ%3D%3D?line=1'>2</a>\u001b[0m x \u001b[39m=\u001b[39m torch\u001b[39m.\u001b[39mtensor([\u001b[39m1.5\u001b[39m, \u001b[39m0.5\u001b[39m], requires_grad\u001b[39m=\u001b[39m\u001b[39mTrue\u001b[39;00m)\n\u001b[0;32m      <a href='vscode-notebook-cell:/c%3A/Users/Claus/OneDrive%20-%20bwedu/Studium/Physik/Master/ML_Physics/MLP23_Exercises/mlph2023-Exercises/sheet04.ipynb#W3sZmlsZQ%3D%3D?line=2'>3</a>\u001b[0m L \u001b[39m=\u001b[39m (np\u001b[39m.\u001b[39msin(x[\u001b[39m0\u001b[39m]\u001b[39m/\u001b[39mx[\u001b[39m1\u001b[39m]) \u001b[39m+\u001b[39m x[\u001b[39m0\u001b[39m]\u001b[39m/\u001b[39mx[\u001b[39m1\u001b[39m] \u001b[39m-\u001b[39m np\u001b[39m.\u001b[39mexp(x[\u001b[39m1\u001b[39m])) \u001b[39m*\u001b[39m (x[\u001b[39m0\u001b[39m]\u001b[39m/\u001b[39mx[\u001b[39m1\u001b[39m] \u001b[39m-\u001b[39m np\u001b[39m.\u001b[39mexp(x[\u001b[39m1\u001b[39m]))\n\u001b[0;32m      <a href='vscode-notebook-cell:/c%3A/Users/Claus/OneDrive%20-%20bwedu/Studium/Physik/Master/ML_Physics/MLP23_Exercises/mlph2023-Exercises/sheet04.ipynb#W3sZmlsZQ%3D%3D?line=4'>5</a>\u001b[0m torch\u001b[39m.\u001b[39mautograd\u001b[39m.\u001b[39mgrad(L)\n",
      "\u001b[1;31mNameError\u001b[0m: name 'torch' is not defined"
     ]
    }
   ],
   "source": [
    "# TODO: manual check of intermediate gradients with torch.autograd.grad\n",
    "x = torch.tensor([1.5, 0.5], requires_grad=True)\n",
    "L = (np.sin(x[0]/x[1]) + x[0]/x[1] - np.exp(x[1])) * (x[0]/x[1] - np.exp(x[1]))\n",
    "\n",
    "torch.autograd.grad(L)"
   ]
  },
  {
   "cell_type": "markdown",
   "metadata": {},
   "source": [
    "(b)"
   ]
  },
  {
   "cell_type": "code",
   "execution_count": 2,
   "metadata": {},
   "outputs": [],
   "source": [
    "# TODO: Adam steps"
   ]
  },
  {
   "cell_type": "code",
   "execution_count": 4,
   "metadata": {},
   "outputs": [],
   "source": [
    "# TODO: Plot the loss"
   ]
  },
  {
   "cell_type": "markdown",
   "metadata": {},
   "source": [
    "(c)"
   ]
  },
  {
   "cell_type": "code",
   "execution_count": 6,
   "metadata": {},
   "outputs": [],
   "source": [
    "# TODO: Compute gradients"
   ]
  },
  {
   "cell_type": "code",
   "execution_count": 5,
   "metadata": {},
   "outputs": [],
   "source": [
    "# TODO: Plot gradients and compare to solution for x1 from part (b)"
   ]
  },
  {
   "cell_type": "markdown",
   "metadata": {},
   "source": [
    "# 2) Amplitude Regression"
   ]
  },
  {
   "cell_type": "code",
   "execution_count": null,
   "metadata": {},
   "outputs": [],
   "source": [
    "# download data to folder ../sheet04_data\n",
    "# this might take some time (50MB)\n",
    "# you can also do this manually (download + unpack zip)\n",
    "import os, sys\n",
    "import wget\n",
    "from zipfile import ZipFile\n",
    "from tqdm import tqdm\n",
    "\n",
    "DESTINATION = \"../sheet04_data\"\n",
    "url = \"https://www.thphys.uni-heidelberg.de/~plehn/pics/\"\n",
    "filename = \"tutorial-2-data.zip\"\n",
    "url = url + filename\n",
    "\n",
    "#os.makedirs(DESTINATION, exist_ok=True)\n",
    "#os.chdir(DESTINATION)\n",
    "#wget.download(url, filename)\n",
    "#with ZipFile(filename, \"r\") as zip_ref:\n",
    "#    for file in tqdm(iterable=zip_ref.namelist(), total=len(zip_ref.namelist())):\n",
    "#        zip_ref.extract(member=file)\n",
    "#os.chdir(\"..\")\n",
    "#%ls ../sheet04_data"
   ]
  },
  {
   "cell_type": "code",
   "execution_count": 21,
   "metadata": {},
   "outputs": [
    {
     "name": "stdout",
     "output_type": "stream",
     "text": [
      "train data shape: (30000, 5, 4)\n",
      "train amp  shape: (30000,)\n",
      "test  data shape: (30000, 5, 4)\n",
      "test  amp  shape: (30000,)\n",
      "val   data shape: (30000, 5, 4)\n",
      "val   amp  shape: (30000,)\n"
     ]
    }
   ],
   "source": [
    "# load data\n",
    "trn_dat = np.load(\"../../sheet04_data/trn_dat.npy\")\n",
    "trn_amp = np.load(\"../../sheet04_data/trn_amp.npy\")\n",
    "\n",
    "val_dat = np.load(\"../../sheet04_data/val_dat.npy\")\n",
    "val_amp = np.load(\"../../sheet04_data/val_amp.npy\")\n",
    "tst_dat = np.load(\"../../sheet04_data/tst_dat.npy\")\n",
    "tst_amp = np.load(\"../../sheet04_data/tst_amp.npy\")\n",
    "\n",
    "print(f\"train data shape: {trn_dat.shape}\")\n",
    "print(f\"train amp  shape: {trn_amp.shape}\")\n",
    "print(f\"test  data shape: {tst_dat.shape}\")\n",
    "print(f\"test  amp  shape: {tst_amp.shape}\")\n",
    "print(f\"val   data shape: {val_dat.shape}\")\n",
    "print(f\"val   amp  shape: {val_amp.shape}\")"
   ]
  },
  {
   "cell_type": "markdown",
   "metadata": {},
   "source": [
    "(a)"
   ]
  },
  {
   "cell_type": "code",
   "execution_count": 104,
   "metadata": {},
   "outputs": [
    {
     "data": {
      "text/plain": [
       "<matplotlib.legend.Legend at 0x162bf4a0640>"
      ]
     },
     "execution_count": 104,
     "metadata": {},
     "output_type": "execute_result"
    },
    {
     "data": {
      "image/png": "[encoded data removed]",
      "text/plain": [
       "<Figure size 640x480 with 1 Axes>"
      ]
     },
     "metadata": {},
     "output_type": "display_data"
    }
   ],
   "source": [
    "# TODO: Plot amplitudes\n",
    "plt.hist(trn_amp,range=[0,2 * trn_amp.mean()], bins=100, alpha = 0.4, label='train')\n",
    "plt.hist(tst_amp,range=[0,2 * tst_amp.mean()], bins=100, alpha = 0.4, label='test')\n",
    "plt.hist(val_amp,range=[0,2 * val_amp.mean()], bins=100, alpha = 0.4, label='validation')\n",
    "plt.xlabel('Amplitude')\n",
    "plt.ylabel('Count')\n",
    "plt.title('Amplitude count')\n",
    "plt.legend()"
   ]
  },
  {
   "cell_type": "markdown",
   "metadata": {},
   "source": [
    "This looks a lot like a poisson distribution @ Mika, was denkst du??"
   ]
  },
  {
   "cell_type": "code",
   "execution_count": 127,
   "metadata": {},
   "outputs": [
    {
     "data": {
      "text/plain": [
       "(array([    0.,     0.,     0.,     0.,     0.,     0.,     0.,     0.,\n",
       "            0.,     0.,     0.,     0.,     0.,     0.,     0.,     0.,\n",
       "            0.,     0.,     0.,     0.,     0.,     0.,     0.,     0.,\n",
       "            0.,     0.,     0.,     0.,     0.,     0.,     0.,     0.,\n",
       "            0.,     0.,     0.,     0.,     0.,     0.,     0.,     0.,\n",
       "            0.,     0.,     0.,     0.,     0.,     0.,     0.,     0.,\n",
       "            0.,     0., 29999.,     0.,     0.,     0.,     0.,     0.,\n",
       "            0.,     0.,     0.,     0.,     0.,     0.,     0.,     0.,\n",
       "            0.,     0.,     0.,     0.,     0.,     0.,     0.,     0.,\n",
       "            0.,     0.,     0.,     0.,     0.,     0.,     0.,     0.,\n",
       "            0.,     0.,     0.,     0.,     0.,     0.,     0.,     0.,\n",
       "            0.,     0.,     0.,     0.,     0.,     0.,     0.,     0.,\n",
       "            0.,     0.,     0.,     0.]),\n",
       " array([-1.03461099, -1.01403756, -0.99346412, -0.97289068, -0.95231725,\n",
       "        -0.93174381, -0.91117037, -0.89059693, -0.8700235 , -0.84945006,\n",
       "        -0.82887662, -0.80830319, -0.78772975, -0.76715631, -0.74658287,\n",
       "        -0.72600944, -0.705436  , -0.68486256, -0.66428913, -0.64371569,\n",
       "        -0.62314225, -0.60256881, -0.58199538, -0.56142194, -0.5408485 ,\n",
       "        -0.52027507, -0.49970163, -0.47912819, -0.45855475, -0.43798132,\n",
       "        -0.41740788, -0.39683444, -0.37626101, -0.35568757, -0.33511413,\n",
       "        -0.3145407 , -0.29396726, -0.27339382, -0.25282038, -0.23224695,\n",
       "        -0.21167351, -0.19110007, -0.17052664, -0.1499532 , -0.12937976,\n",
       "        -0.10880632, -0.08823289, -0.06765945, -0.04708601, -0.02651258,\n",
       "        -0.00593914,  0.0146343 ,  0.03520774,  0.05578117,  0.07635461,\n",
       "         0.09692805,  0.11750148,  0.13807492,  0.15864836,  0.1792218 ,\n",
       "         0.19979523,  0.22036867,  0.24094211,  0.26151554,  0.28208898,\n",
       "         0.30266242,  0.32323585,  0.34380929,  0.36438273,  0.38495617,\n",
       "         0.4055296 ,  0.42610304,  0.44667648,  0.46724991,  0.48782335,\n",
       "         0.50839679,  0.52897023,  0.54954366,  0.5701171 ,  0.59069054,\n",
       "         0.61126397,  0.63183741,  0.65241085,  0.67298429,  0.69355772,\n",
       "         0.71413116,  0.7347046 ,  0.75527803,  0.77585147,  0.79642491,\n",
       "         0.81699835,  0.83757178,  0.85814522,  0.87871866,  0.89929209,\n",
       "         0.91986553,  0.94043897,  0.9610124 ,  0.98158584,  1.00215928,\n",
       "         1.02273272]),\n",
       " <BarContainer object of 100 artists>)"
      ]
     },
     "execution_count": 127,
     "metadata": {},
     "output_type": "execute_result"
    },
    {
     "data": {
      "image/png": "[encoded data removed]",
      "text/plain": [
       "<Figure size 1200x300 with 3 Axes>"
      ]
     },
     "metadata": {},
     "output_type": "display_data"
    }
   ],
   "source": [
    "# TODO: Plot incoming momenta\n",
    "trn_in = trn_dat[:,0,:] + trn_dat[:,1,:]; # sum over incoming particles\n",
    "\n",
    "fig, axs = plt.subplots(1,3,figsize = (12,3))\n",
    "axs[0].hist(trn_in[:,0],range=[trn_in[:,0].mean() - trn_in[:,0].std(), trn_in[:,0].mean() + 2 * trn_in[:,0].std()], bins=100)\n",
    "axs[1].hist(trn_in[:,1],range=[trn_in[:,1].mean() - trn_in[:,1].std(), trn_in[:,1].mean() + trn_in[:,1].std()], bins=100)\n",
    "axs[2].hist(trn_in[:,2],range=[trn_in[:,2].mean() - trn_in[:,2].std(), trn_in[:,2].mean() + trn_in[:,2].std()], bins=100)\n"
   ]
  },
  {
   "cell_type": "markdown",
   "metadata": {},
   "source": [
    "The incoming particles habe no center of mass impulse along y and z axis, but only in x axis in which it is again a right tailed distribution (??)"
   ]
  },
  {
   "cell_type": "code",
   "execution_count": 118,
   "metadata": {},
   "outputs": [
    {
     "data": {
      "text/plain": [
       "<matplotlib.legend.Legend at 0x162c448a3e0>"
      ]
     },
     "execution_count": 118,
     "metadata": {},
     "output_type": "execute_result"
    },
    {
     "data": {
      "image/png": "[encoded data removed]",
      "text/plain": [
       "<Figure size 640x480 with 1 Axes>"
      ]
     },
     "metadata": {},
     "output_type": "display_data"
    }
   ],
   "source": [
    "# TODO: Plot photon pTs\n",
    "pT1 = np.sqrt(trn_dat[:,2,1]**2 + trn_dat[:,2,2]**2)\n",
    "pT2 = np.sqrt(trn_dat[:,3,1]**2 + trn_dat[:,3,2]**2)\n",
    "\n",
    "plt.hist(pT1,range=[0,2 * pT1.mean()], bins=100, alpha=0.4, label='photon_out 1')\n",
    "plt.hist(pT2,range=[0,2 * pT2.mean()], bins=100, alpha=0.4, label='photon_out 2')\n",
    "plt.legend()"
   ]
  },
  {
   "cell_type": "code",
   "execution_count": 16,
   "metadata": {},
   "outputs": [],
   "source": [
    "# TODO: Plot MET\n",
    "# ?? "
   ]
  },
  {
   "cell_type": "markdown",
   "metadata": {},
   "source": [
    "(b)"
   ]
  },
  {
   "cell_type": "code",
   "execution_count": 119,
   "metadata": {},
   "outputs": [],
   "source": [
    "# flatten datasets\n",
    "nev = trn_dat.shape[0]\n",
    "trn_datf = np.reshape(trn_dat, (nev, -1))\n",
    "val_datf = np.reshape(val_dat, (nev, -1))\n",
    "tst_datf = np.reshape(tst_dat, (nev, -1))"
   ]
  },
  {
   "cell_type": "code",
   "execution_count": 176,
   "metadata": {},
   "outputs": [],
   "source": [
    "# TODO: Implement preprocessing\n",
    "def preprocess_x(x_in):\n",
    "    lnx = np.zeros_like(x_in)\n",
    "    lnx[x_in > 0] = np.log(x_in[x_in > 0])\n",
    "    lnx[x_in <= 0] = np.log( - x_in[x_in <= 0])\n",
    "    return (lnx - np.mean(lnx,axis=0)) / np.std(lnx,axis=0)\n",
    "\n",
    "def preprocess_A(A_in):\n",
    "    lnA = np.log(A_in)\n",
    "    return (lnA - np.mean(lnA)) / np.std(lnA)\n",
    "\n",
    "def undo_preprocess_A(A_in):\n",
    "    pass"
   ]
  },
  {
   "cell_type": "code",
   "execution_count": 175,
   "metadata": {},
   "outputs": [
    {
     "name": "stderr",
     "output_type": "stream",
     "text": [
      "C:\\Users\\Claus\\AppData\\Local\\Temp\\ipykernel_11680\\3086957355.py:5: RuntimeWarning: divide by zero encountered in log\n",
      "  lnx[x_in <= 0] = np.log( - x_in[x_in <= 0])\n",
      "C:\\Users\\Claus\\AppData\\Local\\Temp\\ipykernel_11680\\3086957355.py:6: RuntimeWarning: invalid value encountered in subtract\n",
      "  return (lnx - np.mean(lnx,axis=0)) / np.std(lnx,axis=0)\n"
     ]
    },
    {
     "data": {
      "text/plain": [
       "(array([[0.000e+00, 0.000e+00, 0.000e+00, 0.000e+00, 0.000e+00, 0.000e+00,\n",
       "         0.000e+00, 0.000e+00, 0.000e+00, 0.000e+00, 0.000e+00, 0.000e+00,\n",
       "         0.000e+00, 0.000e+00, 0.000e+00, 0.000e+00, 0.000e+00, 0.000e+00,\n",
       "         0.000e+00, 0.000e+00, 0.000e+00, 0.000e+00, 0.000e+00, 0.000e+00,\n",
       "         0.000e+00, 0.000e+00, 0.000e+00, 0.000e+00, 0.000e+00, 0.000e+00,\n",
       "         1.000e+00, 2.150e+02, 1.102e+03, 2.598e+03, 3.774e+03, 4.675e+03,\n",
       "         4.734e+03, 4.045e+03, 2.811e+03, 1.800e+03, 1.086e+03, 7.080e+02,\n",
       "         5.910e+02, 4.920e+02, 3.240e+02, 2.430e+02, 2.360e+02, 2.290e+02,\n",
       "         2.010e+02, 1.350e+02],\n",
       "        [0.000e+00, 0.000e+00, 0.000e+00, 0.000e+00, 0.000e+00, 0.000e+00,\n",
       "         0.000e+00, 0.000e+00, 0.000e+00, 0.000e+00, 0.000e+00, 0.000e+00,\n",
       "         0.000e+00, 0.000e+00, 0.000e+00, 0.000e+00, 0.000e+00, 0.000e+00,\n",
       "         0.000e+00, 0.000e+00, 0.000e+00, 0.000e+00, 0.000e+00, 0.000e+00,\n",
       "         0.000e+00, 0.000e+00, 0.000e+00, 0.000e+00, 0.000e+00, 0.000e+00,\n",
       "         0.000e+00, 0.000e+00, 0.000e+00, 0.000e+00, 0.000e+00, 0.000e+00,\n",
       "         0.000e+00, 0.000e+00, 0.000e+00, 0.000e+00, 0.000e+00, 0.000e+00,\n",
       "         0.000e+00, 0.000e+00, 0.000e+00, 0.000e+00, 0.000e+00, 0.000e+00,\n",
       "         0.000e+00, 0.000e+00],\n",
       "        [0.000e+00, 0.000e+00, 0.000e+00, 0.000e+00, 0.000e+00, 0.000e+00,\n",
       "         0.000e+00, 0.000e+00, 0.000e+00, 0.000e+00, 0.000e+00, 0.000e+00,\n",
       "         0.000e+00, 0.000e+00, 0.000e+00, 0.000e+00, 0.000e+00, 0.000e+00,\n",
       "         0.000e+00, 0.000e+00, 0.000e+00, 0.000e+00, 0.000e+00, 0.000e+00,\n",
       "         0.000e+00, 0.000e+00, 0.000e+00, 0.000e+00, 0.000e+00, 0.000e+00,\n",
       "         0.000e+00, 0.000e+00, 0.000e+00, 0.000e+00, 0.000e+00, 0.000e+00,\n",
       "         0.000e+00, 0.000e+00, 0.000e+00, 0.000e+00, 0.000e+00, 0.000e+00,\n",
       "         0.000e+00, 0.000e+00, 0.000e+00, 0.000e+00, 0.000e+00, 0.000e+00,\n",
       "         0.000e+00, 0.000e+00],\n",
       "        [1.000e+00, 0.000e+00, 0.000e+00, 0.000e+00, 0.000e+00, 0.000e+00,\n",
       "         1.000e+00, 0.000e+00, 1.000e+00, 2.000e+00, 0.000e+00, 1.000e+00,\n",
       "         2.000e+00, 5.000e+00, 1.000e+00, 5.000e+00, 6.000e+00, 9.000e+00,\n",
       "         1.400e+01, 1.400e+01, 1.600e+01, 2.300e+01, 2.600e+01, 3.300e+01,\n",
       "         5.300e+01, 7.600e+01, 1.300e+02, 1.640e+02, 1.970e+02, 3.010e+02,\n",
       "         3.740e+02, 5.280e+02, 7.850e+02, 1.137e+03, 1.699e+03, 2.494e+03,\n",
       "         3.537e+03, 4.687e+03, 5.362e+03, 4.502e+03, 2.452e+03, 8.210e+02,\n",
       "         5.010e+02, 4.000e+01, 0.000e+00, 0.000e+00, 0.000e+00, 0.000e+00,\n",
       "         0.000e+00, 0.000e+00]]),\n",
       " array([-11.58713888, -11.27487015, -10.96260141, -10.65033267,\n",
       "        -10.33806393, -10.02579519,  -9.71352645,  -9.40125771,\n",
       "         -9.08898897,  -8.77672024,  -8.4644515 ,  -8.15218276,\n",
       "         -7.83991402,  -7.52764528,  -7.21537654,  -6.9031078 ,\n",
       "         -6.59083907,  -6.27857033,  -5.96630159,  -5.65403285,\n",
       "         -5.34176411,  -5.02949537,  -4.71722663,  -4.40495789,\n",
       "         -4.09268916,  -3.78042042,  -3.46815168,  -3.15588294,\n",
       "         -2.8436142 ,  -2.53134546,  -2.21907672,  -1.90680798,\n",
       "         -1.59453925,  -1.28227051,  -0.97000177,  -0.65773303,\n",
       "         -0.34546429,  -0.03319555,   0.27907319,   0.59134193,\n",
       "          0.90361066,   1.2158794 ,   1.52814814,   1.84041688,\n",
       "          2.15268562,   2.46495436,   2.7772231 ,   3.08949184,\n",
       "          3.40176057,   3.71402931,   4.02629805]),\n",
       " <a list of 4 BarContainer objects>)"
      ]
     },
     "execution_count": 175,
     "metadata": {},
     "output_type": "execute_result"
    },
    {
     "data": {
      "image/png": "[encoded data removed]",
      "text/plain": [
       "<Figure size 640x480 with 1 Axes>"
      ]
     },
     "metadata": {},
     "output_type": "display_data"
    }
   ],
   "source": [
    "trn = preprocess_x(trn_dat[:,0,:] + trn_dat[:,1,:]) # sum over incoming particles\n",
    "amp = preprocess_A(trn_amp)\n",
    "\n",
    "\n",
    "plt.hist(trn,bins=50,alpha=0.5)\n",
    "#plt.hist(amp,bins=50,alpha=0.5)\n"
   ]
  },
  {
   "cell_type": "code",
   "execution_count": 152,
   "metadata": {},
   "outputs": [
    {
     "name": "stderr",
     "output_type": "stream",
     "text": [
      "C:\\Users\\Claus\\AppData\\Local\\Temp\\ipykernel_11680\\4185496930.py:3: RuntimeWarning: divide by zero encountered in log\n",
      "  lnx = np.log(x_in)\n",
      "C:\\Users\\Claus\\AppData\\Local\\Temp\\ipykernel_11680\\4185496930.py:3: RuntimeWarning: invalid value encountered in log\n",
      "  lnx = np.log(x_in)\n",
      "C:\\Users\\Claus\\AppData\\Local\\Temp\\ipykernel_11680\\4185496930.py:4: RuntimeWarning: invalid value encountered in subtract\n",
      "  return (lnx - np.mean(lnx,axis=0)) / np.std(lnx,axis=0)\n",
      "c:\\Users\\Claus\\.conda\\envs\\myenv\\lib\\site-packages\\numpy\\core\\_methods.py:173: RuntimeWarning: invalid value encountered in subtract\n",
      "  x = asanyarray(arr - arrmean)\n"
     ]
    },
    {
     "ename": "IndexError",
     "evalue": "invalid index to scalar variable.",
     "output_type": "error",
     "traceback": [
      "\u001b[1;31m---------------------------------------------------------------------------\u001b[0m",
      "\u001b[1;31mIndexError\u001b[0m                                Traceback (most recent call last)",
      "\u001b[1;32mc:\\Users\\Claus\\OneDrive - bwedu\\Studium\\Physik\\Master\\ML_Physics\\MLP23_Exercises\\mlph2023-Exercises\\sheet04.ipynb Cell 27\u001b[0m line \u001b[0;36m4\n\u001b[0;32m      <a href='vscode-notebook-cell:/c%3A/Users/Claus/OneDrive%20-%20bwedu/Studium/Physik/Master/ML_Physics/MLP23_Exercises/mlph2023-Exercises/sheet04.ipynb#X32sZmlsZQ%3D%3D?line=1'>2</a>\u001b[0m \u001b[39mfor\u001b[39;00m i \u001b[39min\u001b[39;00m \u001b[39mrange\u001b[39m(\u001b[39m3\u001b[39m):\n\u001b[0;32m      <a href='vscode-notebook-cell:/c%3A/Users/Claus/OneDrive%20-%20bwedu/Studium/Physik/Master/ML_Physics/MLP23_Exercises/mlph2023-Exercises/sheet04.ipynb#X32sZmlsZQ%3D%3D?line=2'>3</a>\u001b[0m     plt\u001b[39m.\u001b[39mhist(preprocess_x(trn_dat)[\u001b[39m0\u001b[39m][:,i], \u001b[39mrange\u001b[39m\u001b[39m=\u001b[39m(\u001b[39m-\u001b[39m\u001b[39m5\u001b[39m,\u001b[39m5\u001b[39m), alpha\u001b[39m=\u001b[39m\u001b[39m.5\u001b[39m, bins\u001b[39m=\u001b[39m\u001b[39m50\u001b[39m)\n\u001b[1;32m----> <a href='vscode-notebook-cell:/c%3A/Users/Claus/OneDrive%20-%20bwedu/Studium/Physik/Master/ML_Physics/MLP23_Exercises/mlph2023-Exercises/sheet04.ipynb#X32sZmlsZQ%3D%3D?line=3'>4</a>\u001b[0m plt\u001b[39m.\u001b[39mhist(preprocess_A(trn_amp)[\u001b[39m0\u001b[39;49m][:,\u001b[39m0\u001b[39;49m], \u001b[39mrange\u001b[39m\u001b[39m=\u001b[39m(\u001b[39m-\u001b[39m\u001b[39m5\u001b[39m,\u001b[39m5\u001b[39m), alpha\u001b[39m=\u001b[39m\u001b[39m.5\u001b[39m, bins\u001b[39m=\u001b[39m\u001b[39m50\u001b[39m)\n\u001b[0;32m      <a href='vscode-notebook-cell:/c%3A/Users/Claus/OneDrive%20-%20bwedu/Studium/Physik/Master/ML_Physics/MLP23_Exercises/mlph2023-Exercises/sheet04.ipynb#X32sZmlsZQ%3D%3D?line=4'>5</a>\u001b[0m plt\u001b[39m.\u001b[39mshow()\n",
      "\u001b[1;31mIndexError\u001b[0m: invalid index to scalar variable."
     ]
    },
    {
     "data": {
      "image/png": "[encoded data removed]",
      "text/plain": [
       "<Figure size 640x480 with 1 Axes>"
      ]
     },
     "metadata": {},
     "output_type": "display_data"
    }
   ],
   "source": [
    "\n",
    "for i in range(3):\n",
    "    plt.hist(preprocess_x(trn_dat)[0][:,i], range=(-5,5), alpha=.5, bins=50)\n",
    "plt.hist(preprocess_A(trn_amp)[0][:,0], range=(-5,5), alpha=.5, bins=50)\n",
    "plt.show()"
   ]
  },
  {
   "cell_type": "code",
   "execution_count": 17,
   "metadata": {},
   "outputs": [],
   "source": [
    "# TODO: Implement dataset class\n",
    "class amp_dataset(torch.utils.data.Dataset):\n",
    "    \n",
    "    def __init__(self, data, amp):\n",
    "        pass\n",
    "\n",
    "    def __len__(self):\n",
    "        pass\n",
    "\n",
    "    def __getitem__(self, idx):\n",
    "        pass"
   ]
  },
  {
   "cell_type": "code",
   "execution_count": 40,
   "metadata": {},
   "outputs": [],
   "source": [
    "# TODO: create datasets and dataloaders\n",
    "\n",
    "trn_dataloader = ...\n",
    "val_dataloader = ...\n",
    "tst_dataloader = ..."
   ]
  },
  {
   "cell_type": "markdown",
   "metadata": {},
   "source": [
    "(c)"
   ]
  },
  {
   "cell_type": "code",
   "execution_count": null,
   "metadata": {},
   "outputs": [],
   "source": [
    "device = \"cuda\" if torch.cuda.is_available() else \"cpu\"\n",
    "print(f\"Using {device} device\")"
   ]
  },
  {
   "cell_type": "code",
   "execution_count": 42,
   "metadata": {},
   "outputs": [],
   "source": [
    "# TODO: Implement network\n",
    "class amp_net(nn.Module):\n",
    "    \n",
    "    def __init__(self, ipt_dim=20, opt_dim=1, hdn_dim=32, n_layers=2):\n",
    "        super(amp_net, self).__init__()\n",
    "        \n",
    "        pass\n",
    "\n",
    "    def forward(self, x):\n",
    "        pass"
   ]
  },
  {
   "cell_type": "code",
   "execution_count": null,
   "metadata": {},
   "outputs": [],
   "source": [
    "# TODO: create network\n",
    "model = ...\n",
    "print(model)\n",
    "total_parameters = sum(p.numel() for p in model.parameters() if p.requires_grad)\n",
    "print(f\"Model has {total_parameters:d} trainable parameters\")"
   ]
  },
  {
   "cell_type": "code",
   "execution_count": null,
   "metadata": {},
   "outputs": [],
   "source": [
    "# take first batch from train loader\n",
    "x, A = next(iter(trn_dataloader))\n",
    "print(x.shape, A.shape)"
   ]
  },
  {
   "cell_type": "code",
   "execution_count": 9,
   "metadata": {},
   "outputs": [],
   "source": [
    "# TODO: Train network on first batch for 10000 iterations"
   ]
  },
  {
   "cell_type": "code",
   "execution_count": 10,
   "metadata": {},
   "outputs": [],
   "source": [
    "# TODO: Plot loss"
   ]
  },
  {
   "cell_type": "code",
   "execution_count": 13,
   "metadata": {},
   "outputs": [],
   "source": [
    "# TODO: Plot (A_predicted - A_true) / A_true"
   ]
  },
  {
   "cell_type": "markdown",
   "metadata": {},
   "source": [
    "(d)"
   ]
  },
  {
   "cell_type": "code",
   "execution_count": 11,
   "metadata": {},
   "outputs": [],
   "source": [
    "# TODO: Train network on the full training dataset"
   ]
  },
  {
   "cell_type": "code",
   "execution_count": 12,
   "metadata": {},
   "outputs": [],
   "source": [
    "# TODO: Plot loss and amplitude histogram"
   ]
  },
  {
   "cell_type": "markdown",
   "metadata": {},
   "source": [
    "(e)"
   ]
  },
  {
   "cell_type": "code",
   "execution_count": 59,
   "metadata": {},
   "outputs": [],
   "source": [
    "# TODO: create dataloaders with reduced dataset\n",
    "\n",
    "batch_size = 64\n",
    "trn_dataloader_reduced = ...\n",
    "val_dataloader_reduced = ...\n",
    "tst_dataloader_reduced = ..."
   ]
  },
  {
   "cell_type": "code",
   "execution_count": null,
   "metadata": {},
   "outputs": [],
   "source": [
    "# TODO: Train model on reduced dataset"
   ]
  },
  {
   "cell_type": "code",
   "execution_count": null,
   "metadata": {},
   "outputs": [],
   "source": [
    "# TODO: Evaluate model"
   ]
  },
  {
   "cell_type": "code",
   "execution_count": null,
   "metadata": {},
   "outputs": [],
   "source": [
    "# TODO: Implement your regularization approach, train a model and evaluate it"
   ]
  },
  {
   "cell_type": "code",
   "execution_count": null,
   "metadata": {},
   "outputs": [],
   "source": []
  }
 ],
 "metadata": {
  "kernelspec": {
   "display_name": "Python 3",
   "language": "python",
   "name": "python3"
  },
  "language_info": {
   "codemirror_mode": {
    "name": "ipython",
    "version": 3
   },
   "file_extension": ".py",
   "mimetype": "text/x-python",
   "name": "python",
   "nbconvert_exporter": "python",
   "pygments_lexer": "ipython3",
   "version": "3.10.13"
  }
 },
 "nbformat": 4,
 "nbformat_minor": 2
}
