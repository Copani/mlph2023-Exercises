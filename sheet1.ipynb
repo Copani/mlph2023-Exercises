{
 "cells": [
  {
   "cell_type": "markdown",
   "metadata": {},
   "source": [
    "# Sheet 1"
   ]
  },
  {
   "cell_type": "code",
   "execution_count": 2,
   "metadata": {},
   "outputs": [],
   "source": [
    "import numpy as np\n",
    "import matplotlib.pyplot as plt\n",
    "import scipy.special as sp\n",
    "import time"
   ]
  },
  {
   "cell_type": "markdown",
   "metadata": {},
   "source": [
    "## 2) Random numbers"
   ]
  },
  {
   "cell_type": "markdown",
   "metadata": {},
   "source": [
    "(b) Inverse Transform Sampling"
   ]
  },
  {
   "cell_type": "code",
   "execution_count": 3,
   "metadata": {},
   "outputs": [],
   "source": [
    "N = 100000\n",
    "r = np.random.rand(N)"
   ]
  },
  {
   "cell_type": "markdown",
   "metadata": {},
   "source": [
    "TODO: Derive expression for $G^{-1}(F(x))$"
   ]
  },
  {
   "cell_type": "code",
   "execution_count": null,
   "metadata": {},
   "outputs": [],
   "source": [
    "t0 = time.time()\n",
    "\n",
    "# TODO: Calculate x following g1\n",
    "x = ...\n",
    "\n",
    "t1 = time.time()\n",
    "print(f\"Generated {len(x)} random numbers in {t1-t0:.4f} s\")\n",
    "\n",
    "x0 = np.linspace(0,1)\n",
    "plt.hist(x, range=(0,1), bins=100, density=True)\n",
    "plt.plot(x0, 3*x0**2)\n",
    "plt.show()"
   ]
  },
  {
   "cell_type": "markdown",
   "metadata": {},
   "source": [
    "TODO: Derive expression for $G^{-1}(F(x))$"
   ]
  },
  {
   "cell_type": "code",
   "execution_count": null,
   "metadata": {},
   "outputs": [],
   "source": [
    "t0 = time.time()\n",
    "\n",
    "# TODO: Calculate x following g2\n",
    "x = ...\n",
    "\n",
    "t1 = time.time()\n",
    "print(f\"Generated {len(x)} random numbers in {t1-t0:.4f} s\")\n",
    "\n",
    "x0 = np.linspace(0,5)\n",
    "plt.hist(x, range=(0,5), bins=100, density=True)\n",
    "plt.plot(x0, np.exp(-x0))\n",
    "plt.show()"
   ]
  },
  {
   "cell_type": "markdown",
   "metadata": {},
   "source": [
    "TODO: Derive expression for $G^{-1}(F(x))$"
   ]
  },
  {
   "cell_type": "code",
   "execution_count": null,
   "metadata": {},
   "outputs": [],
   "source": [
    "t0 = time.time()\n",
    "\n",
    "# TODO: Calculate x following g3\n",
    "x = ...\n",
    "\n",
    "t1 = time.time()\n",
    "print(f\"Generated {len(x)} random numbers in {t1-t0:.4f} s\")\n",
    "\n",
    "x0 = np.linspace(-5,5)\n",
    "plt.hist(x, range=(-5,5), bins=100, density=True)\n",
    "plt.plot(x0, 1/(2*np.pi)**.5 * np.exp(-x0**2/2))\n",
    "plt.show()"
   ]
  },
  {
   "cell_type": "markdown",
   "metadata": {},
   "source": [
    "TODO: Derive expression for $G^{-1}(F(x))$"
   ]
  },
  {
   "cell_type": "code",
   "execution_count": null,
   "metadata": {},
   "outputs": [],
   "source": [
    "t0 = time.time()\n",
    "\n",
    "# TODO: Calculate x following g4\n",
    "# You do not have to evaluate the zeta function \n",
    "x = ...\n",
    "\n",
    "t1 = time.time()\n",
    "print(f\"Generated {len(x)} random numbers in {t1-t0:.4f} s\")\n",
    "\n",
    "x0 = np.linspace(0,5)\n",
    "plt.hist(x, range=(0,5), bins=100, density=True)\n",
    "plt.plot(x0, 2/(3*sp.zeta(3)) * x0**2/(np.exp(x0)+1) \n",
    "         / 0.862177) # correction factor for limited x range\n",
    "plt.show()"
   ]
  },
  {
   "cell_type": "markdown",
   "metadata": {},
   "source": [
    "(c) rejection sampling"
   ]
  },
  {
   "cell_type": "code",
   "execution_count": 9,
   "metadata": {},
   "outputs": [],
   "source": [
    "g_accept = np.random.rand(N)"
   ]
  },
  {
   "cell_type": "code",
   "execution_count": null,
   "metadata": {},
   "outputs": [],
   "source": [
    "t0 = time.time()\n",
    "\n",
    "# TODO: Generate random numbers following g1\n",
    "x_proposal = r\n",
    "x = ...\n",
    "\n",
    "t1 = time.time()\n",
    "print(f\"Generated {len(x)} random numbers in {t1-t0:.4f} s\")\n",
    "\n",
    "plt.hist(x, range=(0,5), bins=100, density=True)\n",
    "plt.show()"
   ]
  },
  {
   "cell_type": "code",
   "execution_count": null,
   "metadata": {},
   "outputs": [],
   "source": [
    "t0 = time.time()\n",
    "\n",
    "# TODO: Generate random numbers following g2\n",
    "x_proposal = 5*r\n",
    "x = ...\n",
    "\n",
    "t1 = time.time()\n",
    "print(f\"Generated {len(x)} random numbers in {t1-t0:.4f} s\")\n",
    "\n",
    "x0 = np.linspace(0,5)\n",
    "plt.hist(x, range=(0,5), bins=100, density=True)\n",
    "plt.plot(x0, np.exp(-x0))\n",
    "plt.show()"
   ]
  },
  {
   "cell_type": "code",
   "execution_count": null,
   "metadata": {},
   "outputs": [],
   "source": [
    "t0 = time.time()\n",
    "\n",
    "# TODO: Generate random numbers following g3\n",
    "x_proposal = 10*r -5\n",
    "x = ...\n",
    "\n",
    "t1 = time.time()\n",
    "print(f\"Generated {len(x)} random numbers in {t1-t0:.4f} s\")\n",
    "\n",
    "x0 = np.linspace(-5,5)\n",
    "plt.hist(x, range=(-5,5), bins=100, density=True)\n",
    "plt.plot(x0, 1/(2*np.pi)**.5 * np.exp(-x0**2/2))\n",
    "plt.show()"
   ]
  },
  {
   "cell_type": "code",
   "execution_count": null,
   "metadata": {},
   "outputs": [],
   "source": [
    "t0 = time.time()\n",
    "\n",
    "# TODO: Generate random numbers following g4\n",
    "# You do not have to evaluate the zeta function \n",
    "x_proposal = 5*r\n",
    "x = ...\n",
    "\n",
    "t1 = time.time()\n",
    "\n",
    "print(f\"Generated {len(x)} random numbers in {t1-t0:.4f} s\")\n",
    "\n",
    "x0 = np.linspace(0,5)\n",
    "plt.hist(x, range=(0,5), bins=100, density=True)\n",
    "plt.plot(x0, 2/(3*sp.zeta(3)) * x0**2/(np.exp(x0)+1) \n",
    "         / 0.862177) \n",
    "# Note: Need the correction factor 0.862177 = \\int_0^5 dx g_4(x) \n",
    "# to get the correct normalization\n",
    "plt.show()"
   ]
  },
  {
   "cell_type": "markdown",
   "metadata": {},
   "source": [
    "(d) Box-Muller transform"
   ]
  },
  {
   "cell_type": "code",
   "execution_count": null,
   "metadata": {},
   "outputs": [],
   "source": [
    "t0 = time.time()\n",
    "\n",
    "# TODO: Transform r into gaussian random numbers, but fast\n",
    "x = ...\n",
    "\n",
    "t1 = time.time()\n",
    "print(f\"Generated {len(x)} random numbers in {t1-t0:.4f} s\")\n",
    "\n",
    "x0 = np.linspace(-5,5)\n",
    "plt.hist(x, range=(-5,5), bins=100, density=True)\n",
    "plt.plot(x0, 1/(2*np.pi)**.5 * np.exp(-x0**2/2))\n",
    "plt.show()"
   ]
  },
  {
   "cell_type": "code",
   "execution_count": null,
   "metadata": {},
   "outputs": [],
   "source": []
  }
 ],
 "metadata": {
  "kernelspec": {
   "display_name": "Python 3",
   "language": "python",
   "name": "python3"
  },
  "language_info": {
   "codemirror_mode": {
    "name": "ipython",
    "version": 3
   },
   "file_extension": ".py",
   "mimetype": "text/x-python",
   "name": "python",
   "nbconvert_exporter": "python",
   "pygments_lexer": "ipython3",
   "version": "3.8.10"
  }
 },
 "nbformat": 4,
 "nbformat_minor": 4
}
